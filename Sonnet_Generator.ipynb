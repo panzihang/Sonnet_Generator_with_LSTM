{
  "nbformat": 4,
  "nbformat_minor": 0,
  "metadata": {
    "colab": {
      "name": "Sonnet_Generator_Clean.ipynb",
      "provenance": [],
      "collapsed_sections": []
    },
    "kernelspec": {
      "name": "python3",
      "display_name": "Python 3"
    }
  },
  "cells": [
    {
      "cell_type": "code",
      "metadata": {
        "id": "TvoqIcH08hSx"
      },
      "source": [
        "from tensorflow.keras.preprocessing.sequence import pad_sequences\r\n",
        "from tensorflow.keras.layers import Embedding, LSTM, Dense, Dropout, Bidirectional\r\n",
        "from tensorflow.keras.preprocessing.text import Tokenizer\r\n",
        "from tensorflow.keras.models import Sequential\r\n",
        "from tensorflow.keras.optimizers import Adam\r\n",
        "from tensorflow.keras import regularizers\r\n",
        "import tensorflow.keras.utils as ku \r\n",
        "import numpy as np "
      ],
      "execution_count": 2,
      "outputs": []
    },
    {
      "cell_type": "markdown",
      "metadata": {
        "id": "JHb3nex4A3lC"
      },
      "source": [
        "# Data Preprocessing"
      ]
    },
    {
      "cell_type": "code",
      "metadata": {
        "colab": {
          "base_uri": "https://localhost:8080/"
        },
        "id": "fnyCUoQw8mWt",
        "outputId": "baeafe52-7bf2-4d11-b465-a5cce10c62b7"
      },
      "source": [
        "# Data source\r\n",
        "# run on google colab\r\n",
        "!wget --no-check-certificate \\\r\n",
        "    https://storage.googleapis.com/laurencemoroney-blog.appspot.com/sonnets.txt \\\r\n",
        "    -O /tmp/sonnets.txt\r\n",
        "data = open('/tmp/sonnets.txt').read()\r\n",
        "\r\n"
      ],
      "execution_count": 3,
      "outputs": [
        {
          "output_type": "stream",
          "text": [
            "--2021-02-19 06:32:16--  https://storage.googleapis.com/laurencemoroney-blog.appspot.com/sonnets.txt\n",
            "Resolving storage.googleapis.com (storage.googleapis.com)... 74.125.137.128, 142.250.101.128, 2607:f8b0:4023:c03::80, ...\n",
            "Connecting to storage.googleapis.com (storage.googleapis.com)|74.125.137.128|:443... connected.\n",
            "HTTP request sent, awaiting response... 200 OK\n",
            "Length: 93578 (91K) [text/plain]\n",
            "Saving to: ‘/tmp/sonnets.txt’\n",
            "\n",
            "/tmp/sonnets.txt    100%[===================>]  91.38K  --.-KB/s    in 0.001s  \n",
            "\n",
            "2021-02-19 06:32:16 (122 MB/s) - ‘/tmp/sonnets.txt’ saved [93578/93578]\n",
            "\n"
          ],
          "name": "stdout"
        }
      ]
    },
    {
      "cell_type": "code",
      "metadata": {
        "id": "F7QiMhnN8qcg"
      },
      "source": [
        "import re\r\n",
        "corpus = data.lower()\r\n",
        "corpus = re.split(r\"([\\n,!?;.\\s+])\", corpus)\r\n",
        "while ' ' in corpus:\r\n",
        "  corpus.remove(' ')\r\n",
        "while '' in corpus:\r\n",
        "  corpus.remove('')"
      ],
      "execution_count": 4,
      "outputs": []
    },
    {
      "cell_type": "code",
      "metadata": {
        "id": "4t7qfLySC4RE"
      },
      "source": [
        "# delete extra blank lines\r\n",
        "del corpus[2380:2385]"
      ],
      "execution_count": 6,
      "outputs": []
    },
    {
      "cell_type": "code",
      "metadata": {
        "id": "BepRUc96_664"
      },
      "source": [
        "# delete Sonnet 99 since it has 15 rows\r\n",
        "del corpus[13985:14141]"
      ],
      "execution_count": 7,
      "outputs": []
    },
    {
      "cell_type": "code",
      "metadata": {
        "id": "b3MoTzJoDY3O"
      },
      "source": [
        "# delete Sonnet 126 since it has 12 rows\r\n",
        "del corpus[17705:17834]"
      ],
      "execution_count": 8,
      "outputs": []
    },
    {
      "cell_type": "code",
      "metadata": {
        "colab": {
          "base_uri": "https://localhost:8080/"
        },
        "id": "jpRmiwe6F-4g",
        "outputId": "f213e1b4-bb46-40a0-985f-43ddcc05450c"
      },
      "source": [
        "corpus.count('\\n')/14"
      ],
      "execution_count": 9,
      "outputs": [
        {
          "output_type": "execute_result",
          "data": {
            "text/plain": [
              "152.0"
            ]
          },
          "metadata": {
            "tags": []
          },
          "execution_count": 9
        }
      ]
    },
    {
      "cell_type": "code",
      "metadata": {
        "colab": {
          "base_uri": "https://localhost:8080/"
        },
        "id": "YnQ_6UgVBUHk",
        "outputId": "f752b9dd-dc64-415a-ab86-64f3e6bc652c"
      },
      "source": [
        "len(corpus)"
      ],
      "execution_count": 10,
      "outputs": [
        {
          "output_type": "execute_result",
          "data": {
            "text/plain": [
              "21836"
            ]
          },
          "metadata": {
            "tags": []
          },
          "execution_count": 10
        }
      ]
    },
    {
      "cell_type": "code",
      "metadata": {
        "colab": {
          "base_uri": "https://localhost:8080/"
        },
        "id": "--W_wrIaHbcy",
        "outputId": "9a8b54c7-a41f-4c53-87cf-a35fb0bad864"
      },
      "source": [
        "len(set(corpus))"
      ],
      "execution_count": 11,
      "outputs": [
        {
          "output_type": "execute_result",
          "data": {
            "text/plain": [
              "3330"
            ]
          },
          "metadata": {
            "tags": []
          },
          "execution_count": 11
        }
      ]
    },
    {
      "cell_type": "markdown",
      "metadata": {
        "id": "GYc1Dt9UA7eI"
      },
      "source": [
        "# Feature and Label"
      ]
    },
    {
      "cell_type": "markdown",
      "metadata": {
        "id": "CvpcWQFxBnEP"
      },
      "source": [
        "Tokenizer will encode words to integers by tf-idf. <br>\r\n",
        "For unseen words in val/test data, it will just ignore them."
      ]
    },
    {
      "cell_type": "code",
      "metadata": {
        "id": "S48Jd9UfBCsz"
      },
      "source": [
        "tokenizer = Tokenizer(filters = [])\r\n",
        "tokenizer.fit_on_texts(corpus)\r\n",
        "total_words = len(tokenizer.word_index) + 1"
      ],
      "execution_count": 39,
      "outputs": []
    },
    {
      "cell_type": "code",
      "metadata": {
        "colab": {
          "base_uri": "https://localhost:8080/"
        },
        "id": "hiPl3pAoBbI8",
        "outputId": "2356ec7c-96f6-47cd-cc37-2d31346cad93"
      },
      "source": [
        "print(total_words)"
      ],
      "execution_count": 40,
      "outputs": [
        {
          "output_type": "stream",
          "text": [
            "3331\n"
          ],
          "name": "stdout"
        }
      ]
    },
    {
      "cell_type": "code",
      "metadata": {
        "colab": {
          "base_uri": "https://localhost:8080/"
        },
        "id": "G_LUmINrChzd",
        "outputId": "16288d08-cfa1-46bb-fa0a-5a1d52007f7e"
      },
      "source": [
        "tokenizer.texts_to_sequences([\"\\n\"])"
      ],
      "execution_count": 14,
      "outputs": [
        {
          "output_type": "execute_result",
          "data": {
            "text/plain": [
              "[[1]]"
            ]
          },
          "metadata": {
            "tags": []
          },
          "execution_count": 14
        }
      ]
    },
    {
      "cell_type": "code",
      "metadata": {
        "colab": {
          "base_uri": "https://localhost:8080/"
        },
        "id": "pR26w1j-Ch70",
        "outputId": "cb8d2f7e-211b-4c87-f038-48ff87879a78"
      },
      "source": [
        "tokenizer.texts_to_sequences([\"UNSEEN_WORD\"])"
      ],
      "execution_count": 15,
      "outputs": [
        {
          "output_type": "execute_result",
          "data": {
            "text/plain": [
              "[[]]"
            ]
          },
          "metadata": {
            "tags": []
          },
          "execution_count": 15
        }
      ]
    },
    {
      "cell_type": "code",
      "metadata": {
        "id": "PFn2pQ68BcVd"
      },
      "source": [
        "input_sequences = tokenizer.texts_to_sequences(corpus)\r\n",
        "input_sequences = list(sum(input_sequences,[]))"
      ],
      "execution_count": 16,
      "outputs": []
    },
    {
      "cell_type": "markdown",
      "metadata": {
        "id": "Mn2JPrx2HcRE"
      },
      "source": [
        "Use every 10 words to as features predict the next one. <br>\r\n",
        "Be careful about the gap between two poems. (Using count_row to keep track)"
      ]
    },
    {
      "cell_type": "code",
      "metadata": {
        "id": "X2cN8fA0FcXO"
      },
      "source": [
        "features = []\r\n",
        "labels = []\r\n",
        "count_row = 0\r\n",
        "predict_n = 10\r\n",
        "i = 0\r\n",
        "while(i < len(input_sequences)):\r\n",
        "  if i >= predict_n:\r\n",
        "    features.append(input_sequences[i-predict_n:i])\r\n",
        "    labels.append([input_sequences[i]])\r\n",
        "  if input_sequences[i] == 1:\r\n",
        "    count_row += 1\r\n",
        "    if count_row >= 14:\r\n",
        "      count_row = 0\r\n",
        "      i += predict_n+1\r\n",
        "    else:\r\n",
        "      i += 1\r\n",
        "  else:\r\n",
        "    i += 1"
      ],
      "execution_count": 17,
      "outputs": []
    },
    {
      "cell_type": "code",
      "metadata": {
        "id": "H7UYeFY2H5d2"
      },
      "source": [
        "labels=np.array(labels)\r\n",
        "features=np.array(features)"
      ],
      "execution_count": 18,
      "outputs": []
    },
    {
      "cell_type": "markdown",
      "metadata": {
        "id": "Wonna2ZfC4fx"
      },
      "source": [
        "Shuffle"
      ]
    },
    {
      "cell_type": "code",
      "metadata": {
        "colab": {
          "base_uri": "https://localhost:8080/"
        },
        "id": "fBvIW8_bCSYo",
        "outputId": "f91b89bd-76aa-4b73-e42e-402c0daf7448"
      },
      "source": [
        "features.shape"
      ],
      "execution_count": 26,
      "outputs": [
        {
          "output_type": "execute_result",
          "data": {
            "text/plain": [
              "(20366, 10)"
            ]
          },
          "metadata": {
            "tags": []
          },
          "execution_count": 26
        }
      ]
    },
    {
      "cell_type": "code",
      "metadata": {
        "colab": {
          "base_uri": "https://localhost:8080/"
        },
        "id": "4k2UmNKECCiU",
        "outputId": "ed3510df-8e50-4dfe-94db-9f14a36658b4"
      },
      "source": [
        "labels.shape"
      ],
      "execution_count": 23,
      "outputs": [
        {
          "output_type": "execute_result",
          "data": {
            "text/plain": [
              "(20366, 1)"
            ]
          },
          "metadata": {
            "tags": []
          },
          "execution_count": 23
        }
      ]
    },
    {
      "cell_type": "code",
      "metadata": {
        "colab": {
          "base_uri": "https://localhost:8080/"
        },
        "id": "v1aGGtI1CGV6",
        "outputId": "5d14edb6-0cc4-467b-b158-c409efc51410"
      },
      "source": [
        "comb = np.hstack([features, labels])\r\n",
        "comb[:5]"
      ],
      "execution_count": 27,
      "outputs": [
        {
          "output_type": "execute_result",
          "data": {
            "text/plain": [
              "array([[ 39, 409, 858, 161, 208, 612,   2,   1,  11, 859, 134],\n",
              "       [409, 858, 161, 208, 612,   2,   1,  11, 859, 134, 347],\n",
              "       [858, 161, 208, 612,   2,   1,  11, 859, 134, 347, 107],\n",
              "       [161, 208, 612,   2,   1,  11, 859, 134, 347, 107, 162],\n",
              "       [208, 612,   2,   1,  11, 859, 134, 347, 107, 162, 209]])"
            ]
          },
          "metadata": {
            "tags": []
          },
          "execution_count": 27
        }
      ]
    },
    {
      "cell_type": "code",
      "metadata": {
        "id": "xtuusUR6Cjfw"
      },
      "source": [
        "np.random.shuffle(comb)"
      ],
      "execution_count": 28,
      "outputs": []
    },
    {
      "cell_type": "code",
      "metadata": {
        "colab": {
          "base_uri": "https://localhost:8080/"
        },
        "id": "gPWmAOzVCm65",
        "outputId": "50bd6141-e360-4c35-c965-98f5a05520a3"
      },
      "source": [
        "comb[:5]"
      ],
      "execution_count": 29,
      "outputs": [
        {
          "output_type": "execute_result",
          "data": {
            "text/plain": [
              "array([[1088,   11,   16,  115,    2,    1,    3, 2943,   70,  141,  342],\n",
              "       [  11,  931,    4,  601,    6,   13,  152,    2,    1,  197, 1095],\n",
              "       [   2,    1,   30,  209,   17, 1311,    2,  100,   44,  592,   17],\n",
              "       [ 119,   14,  827,    5,    8,  125, 3037,   61,    1,   14,   58],\n",
              "       [  11,   86,   16,  136,    6,  122,    1,    9,   38,  537,   65]])"
            ]
          },
          "metadata": {
            "tags": []
          },
          "execution_count": 29
        }
      ]
    },
    {
      "cell_type": "code",
      "metadata": {
        "id": "WlMu5HaoCo-9"
      },
      "source": [
        "features = comb[:,:10]\r\n",
        "labels = comb[:,-1]"
      ],
      "execution_count": 30,
      "outputs": []
    },
    {
      "cell_type": "code",
      "metadata": {
        "colab": {
          "base_uri": "https://localhost:8080/"
        },
        "id": "rpSrh9TQIBa_",
        "outputId": "9822241e-967f-44a1-cdbc-5ffecf71b386"
      },
      "source": [
        "len(labels)"
      ],
      "execution_count": 33,
      "outputs": [
        {
          "output_type": "execute_result",
          "data": {
            "text/plain": [
              "20366"
            ]
          },
          "metadata": {
            "tags": []
          },
          "execution_count": 33
        }
      ]
    },
    {
      "cell_type": "markdown",
      "metadata": {
        "id": "0ESnlCt_JQUI"
      },
      "source": [
        "One-hot encode labels to binary vectors."
      ]
    },
    {
      "cell_type": "code",
      "metadata": {
        "id": "8cmd3TgiIDa8"
      },
      "source": [
        "label_cat = ku.to_categorical(labels, num_classes=total_words)"
      ],
      "execution_count": 34,
      "outputs": []
    },
    {
      "cell_type": "code",
      "metadata": {
        "colab": {
          "base_uri": "https://localhost:8080/"
        },
        "id": "uvFAnYP3I5t7",
        "outputId": "e841c17c-0f33-4003-ce62-a97c1c876d46"
      },
      "source": [
        "label_cat.shape"
      ],
      "execution_count": 35,
      "outputs": [
        {
          "output_type": "execute_result",
          "data": {
            "text/plain": [
              "(20366, 3331)"
            ]
          },
          "metadata": {
            "tags": []
          },
          "execution_count": 35
        }
      ]
    },
    {
      "cell_type": "code",
      "metadata": {
        "colab": {
          "base_uri": "https://localhost:8080/"
        },
        "id": "LrBvxjueJbU8",
        "outputId": "3d14c74e-acba-42f2-dd9b-002d26391717"
      },
      "source": [
        "label_cat[0][342]"
      ],
      "execution_count": 37,
      "outputs": [
        {
          "output_type": "execute_result",
          "data": {
            "text/plain": [
              "1.0"
            ]
          },
          "metadata": {
            "tags": []
          },
          "execution_count": 37
        }
      ]
    },
    {
      "cell_type": "markdown",
      "metadata": {
        "id": "8MIyv7aAJ6qT"
      },
      "source": [
        "# Build the model"
      ]
    },
    {
      "cell_type": "code",
      "metadata": {
        "colab": {
          "base_uri": "https://localhost:8080/"
        },
        "id": "dWtsGoFHJ-Ly",
        "outputId": "3a478ed0-af76-4d32-8b81-e63924ee6ee7"
      },
      "source": [
        "model = Sequential()\r\n",
        "model.add(Embedding(total_words, 100, input_length = predict_n))\r\n",
        "model.add(LSTM(150, return_sequences = True))\r\n",
        "model.add(Dropout(0.2))\r\n",
        "model.add(LSTM(100))\r\n",
        "model.add(Dense(total_words/2, activation = 'relu', kernel_regularizer = regularizers.l2(0.01)))\r\n",
        "model.add(Dense(total_words, activation = 'softmax'))\r\n",
        "# Pick an optimizer\r\n",
        "model.compile(loss = 'categorical_crossentropy',optimizer = 'adam', metrics = ['accuracy'])\r\n",
        "print(model.summary())"
      ],
      "execution_count": 41,
      "outputs": [
        {
          "output_type": "stream",
          "text": [
            "Model: \"sequential_1\"\n",
            "_________________________________________________________________\n",
            "Layer (type)                 Output Shape              Param #   \n",
            "=================================================================\n",
            "embedding_1 (Embedding)      (None, 10, 100)           333100    \n",
            "_________________________________________________________________\n",
            "lstm_2 (LSTM)                (None, 10, 150)           150600    \n",
            "_________________________________________________________________\n",
            "dropout_1 (Dropout)          (None, 10, 150)           0         \n",
            "_________________________________________________________________\n",
            "lstm_3 (LSTM)                (None, 100)               100400    \n",
            "_________________________________________________________________\n",
            "dense_2 (Dense)              (None, 1665)              168165    \n",
            "_________________________________________________________________\n",
            "dense_3 (Dense)              (None, 3331)              5549446   \n",
            "=================================================================\n",
            "Total params: 6,301,711\n",
            "Trainable params: 6,301,711\n",
            "Non-trainable params: 0\n",
            "_________________________________________________________________\n",
            "None\n"
          ],
          "name": "stdout"
        }
      ]
    },
    {
      "cell_type": "code",
      "metadata": {
        "id": "jk-o4nrTDilm"
      },
      "source": [],
      "execution_count": null,
      "outputs": []
    },
    {
      "cell_type": "markdown",
      "metadata": {
        "id": "jYdv6Js1IWSP"
      },
      "source": [
        "# Train the model"
      ]
    },
    {
      "cell_type": "code",
      "metadata": {
        "colab": {
          "base_uri": "https://localhost:8080/"
        },
        "id": "XA_dA3_SIYMd",
        "outputId": "3e90f8b2-dd1d-4336-fb75-7930548983f9"
      },
      "source": [
        "history = model.fit(features, label_cat, epochs=50, validation_split=0.2, verbose=1)"
      ],
      "execution_count": 45,
      "outputs": [
        {
          "output_type": "stream",
          "text": [
            "Epoch 1/50\n",
            "510/510 [==============================] - 46s 91ms/step - loss: 4.5799 - accuracy: 0.1991 - val_loss: 6.5440 - val_accuracy: 0.1443\n",
            "Epoch 2/50\n",
            "510/510 [==============================] - 46s 90ms/step - loss: 4.4968 - accuracy: 0.2048 - val_loss: 6.6918 - val_accuracy: 0.1502\n",
            "Epoch 3/50\n",
            "510/510 [==============================] - 46s 90ms/step - loss: 4.4133 - accuracy: 0.2072 - val_loss: 6.9199 - val_accuracy: 0.1483\n",
            "Epoch 4/50\n",
            "510/510 [==============================] - 46s 91ms/step - loss: 4.3277 - accuracy: 0.2158 - val_loss: 6.9932 - val_accuracy: 0.1480\n",
            "Epoch 5/50\n",
            "510/510 [==============================] - 46s 91ms/step - loss: 4.2516 - accuracy: 0.2213 - val_loss: 7.2752 - val_accuracy: 0.1502\n",
            "Epoch 6/50\n",
            "510/510 [==============================] - 46s 91ms/step - loss: 4.1661 - accuracy: 0.2296 - val_loss: 7.2364 - val_accuracy: 0.1453\n",
            "Epoch 7/50\n",
            "510/510 [==============================] - 46s 91ms/step - loss: 4.0852 - accuracy: 0.2401 - val_loss: 7.5553 - val_accuracy: 0.1453\n",
            "Epoch 8/50\n",
            "510/510 [==============================] - 46s 90ms/step - loss: 3.9970 - accuracy: 0.2461 - val_loss: 7.8968 - val_accuracy: 0.1438\n",
            "Epoch 9/50\n",
            "510/510 [==============================] - 46s 91ms/step - loss: 3.9176 - accuracy: 0.2539 - val_loss: 7.9038 - val_accuracy: 0.1431\n",
            "Epoch 10/50\n",
            "510/510 [==============================] - 46s 91ms/step - loss: 3.8276 - accuracy: 0.2598 - val_loss: 8.1424 - val_accuracy: 0.1384\n",
            "Epoch 11/50\n",
            "510/510 [==============================] - 46s 91ms/step - loss: 3.7329 - accuracy: 0.2703 - val_loss: 8.6548 - val_accuracy: 0.1436\n",
            "Epoch 12/50\n",
            "510/510 [==============================] - 46s 91ms/step - loss: 3.6489 - accuracy: 0.2791 - val_loss: 8.7198 - val_accuracy: 0.1360\n",
            "Epoch 13/50\n",
            "510/510 [==============================] - 46s 91ms/step - loss: 3.5654 - accuracy: 0.2890 - val_loss: 9.0429 - val_accuracy: 0.1384\n",
            "Epoch 14/50\n",
            "510/510 [==============================] - 46s 90ms/step - loss: 3.4871 - accuracy: 0.2962 - val_loss: 9.1783 - val_accuracy: 0.1362\n",
            "Epoch 15/50\n",
            "510/510 [==============================] - 46s 91ms/step - loss: 3.3866 - accuracy: 0.3096 - val_loss: 9.8664 - val_accuracy: 0.1416\n",
            "Epoch 16/50\n",
            "510/510 [==============================] - 46s 90ms/step - loss: 3.3023 - accuracy: 0.3212 - val_loss: 10.1189 - val_accuracy: 0.1306\n",
            "Epoch 17/50\n",
            "510/510 [==============================] - 46s 91ms/step - loss: 3.2170 - accuracy: 0.3329 - val_loss: 10.4697 - val_accuracy: 0.1345\n",
            "Epoch 18/50\n",
            "510/510 [==============================] - 46s 91ms/step - loss: 3.1298 - accuracy: 0.3411 - val_loss: 10.6923 - val_accuracy: 0.1227\n",
            "Epoch 19/50\n",
            "510/510 [==============================] - 46s 90ms/step - loss: 3.0515 - accuracy: 0.3585 - val_loss: 11.0278 - val_accuracy: 0.1301\n",
            "Epoch 20/50\n",
            "510/510 [==============================] - 46s 90ms/step - loss: 2.9695 - accuracy: 0.3700 - val_loss: 11.3744 - val_accuracy: 0.1303\n",
            "Epoch 21/50\n",
            "510/510 [==============================] - 46s 91ms/step - loss: 2.8919 - accuracy: 0.3847 - val_loss: 11.6237 - val_accuracy: 0.1296\n",
            "Epoch 22/50\n",
            "510/510 [==============================] - 46s 91ms/step - loss: 2.8072 - accuracy: 0.4027 - val_loss: 12.0329 - val_accuracy: 0.1213\n",
            "Epoch 23/50\n",
            "510/510 [==============================] - 46s 90ms/step - loss: 2.7332 - accuracy: 0.4164 - val_loss: 12.5299 - val_accuracy: 0.1267\n",
            "Epoch 24/50\n",
            "510/510 [==============================] - 46s 91ms/step - loss: 2.6549 - accuracy: 0.4311 - val_loss: 12.6831 - val_accuracy: 0.1252\n",
            "Epoch 25/50\n",
            "510/510 [==============================] - 46s 91ms/step - loss: 2.5837 - accuracy: 0.4507 - val_loss: 13.1015 - val_accuracy: 0.1259\n",
            "Epoch 26/50\n",
            "510/510 [==============================] - 46s 90ms/step - loss: 2.5081 - accuracy: 0.4624 - val_loss: 13.2467 - val_accuracy: 0.1227\n",
            "Epoch 27/50\n",
            "510/510 [==============================] - 46s 90ms/step - loss: 2.4442 - accuracy: 0.4775 - val_loss: 13.7048 - val_accuracy: 0.1227\n",
            "Epoch 28/50\n",
            "510/510 [==============================] - 46s 91ms/step - loss: 2.3750 - accuracy: 0.4917 - val_loss: 14.0781 - val_accuracy: 0.1254\n",
            "Epoch 29/50\n",
            "510/510 [==============================] - 46s 91ms/step - loss: 2.3138 - accuracy: 0.5006 - val_loss: 14.2274 - val_accuracy: 0.1237\n",
            "Epoch 30/50\n",
            "510/510 [==============================] - 47s 91ms/step - loss: 2.2385 - accuracy: 0.5245 - val_loss: 14.5752 - val_accuracy: 0.1276\n",
            "Epoch 31/50\n",
            "510/510 [==============================] - 46s 91ms/step - loss: 2.1718 - accuracy: 0.5304 - val_loss: 14.8007 - val_accuracy: 0.1235\n",
            "Epoch 32/50\n",
            "510/510 [==============================] - 46s 91ms/step - loss: 2.0995 - accuracy: 0.5518 - val_loss: 15.1627 - val_accuracy: 0.1279\n",
            "Epoch 33/50\n",
            "510/510 [==============================] - 46s 91ms/step - loss: 2.0557 - accuracy: 0.5614 - val_loss: 15.4045 - val_accuracy: 0.1289\n",
            "Epoch 34/50\n",
            "510/510 [==============================] - 46s 91ms/step - loss: 1.9929 - accuracy: 0.5803 - val_loss: 15.4627 - val_accuracy: 0.1193\n",
            "Epoch 35/50\n",
            "510/510 [==============================] - 47s 91ms/step - loss: 1.9435 - accuracy: 0.5891 - val_loss: 15.9389 - val_accuracy: 0.1225\n",
            "Epoch 36/50\n",
            "510/510 [==============================] - 46s 91ms/step - loss: 1.8774 - accuracy: 0.6109 - val_loss: 16.0221 - val_accuracy: 0.1267\n",
            "Epoch 37/50\n",
            "510/510 [==============================] - 46s 91ms/step - loss: 1.8130 - accuracy: 0.6202 - val_loss: 16.2500 - val_accuracy: 0.1249\n",
            "Epoch 38/50\n",
            "510/510 [==============================] - 46s 91ms/step - loss: 1.7776 - accuracy: 0.6288 - val_loss: 16.4841 - val_accuracy: 0.1240\n",
            "Epoch 39/50\n",
            "510/510 [==============================] - 47s 91ms/step - loss: 1.7293 - accuracy: 0.6433 - val_loss: 16.6380 - val_accuracy: 0.1257\n",
            "Epoch 40/50\n",
            "510/510 [==============================] - 47s 91ms/step - loss: 1.6729 - accuracy: 0.6593 - val_loss: 16.8938 - val_accuracy: 0.1190\n",
            "Epoch 41/50\n",
            "510/510 [==============================] - 47s 92ms/step - loss: 1.6360 - accuracy: 0.6733 - val_loss: 16.8762 - val_accuracy: 0.1237\n",
            "Epoch 42/50\n",
            "510/510 [==============================] - 47s 91ms/step - loss: 1.5839 - accuracy: 0.6792 - val_loss: 17.4774 - val_accuracy: 0.1247\n",
            "Epoch 43/50\n",
            "510/510 [==============================] - 47s 91ms/step - loss: 1.5320 - accuracy: 0.6927 - val_loss: 17.1710 - val_accuracy: 0.1195\n",
            "Epoch 44/50\n",
            "510/510 [==============================] - 47s 92ms/step - loss: 1.4902 - accuracy: 0.7075 - val_loss: 17.5488 - val_accuracy: 0.1225\n",
            "Epoch 45/50\n",
            "510/510 [==============================] - 47s 91ms/step - loss: 1.4548 - accuracy: 0.7132 - val_loss: 17.7643 - val_accuracy: 0.1242\n",
            "Epoch 46/50\n",
            "510/510 [==============================] - 47s 92ms/step - loss: 1.4034 - accuracy: 0.7262 - val_loss: 17.8204 - val_accuracy: 0.1213\n",
            "Epoch 47/50\n",
            "510/510 [==============================] - 47s 92ms/step - loss: 1.3557 - accuracy: 0.7351 - val_loss: 18.0391 - val_accuracy: 0.1267\n",
            "Epoch 48/50\n",
            "510/510 [==============================] - 47s 91ms/step - loss: 1.3392 - accuracy: 0.7414 - val_loss: 17.8183 - val_accuracy: 0.1213\n",
            "Epoch 49/50\n",
            "510/510 [==============================] - 47s 91ms/step - loss: 1.2953 - accuracy: 0.7551 - val_loss: 18.2987 - val_accuracy: 0.1210\n",
            "Epoch 50/50\n",
            "510/510 [==============================] - 47s 92ms/step - loss: 1.2538 - accuracy: 0.7667 - val_loss: 18.3724 - val_accuracy: 0.1195\n"
          ],
          "name": "stdout"
        }
      ]
    },
    {
      "cell_type": "markdown",
      "metadata": {
        "id": "aMq0uDV_JXMp"
      },
      "source": [
        "# Plot"
      ]
    },
    {
      "cell_type": "code",
      "metadata": {
        "colab": {
          "base_uri": "https://localhost:8080/",
          "height": 282
        },
        "id": "_Na-xOFoJX7p",
        "outputId": "a0effa9f-a9a1-43cc-cd61-246e07088fd9"
      },
      "source": [
        "# plot the model accuracy and validation accuracy\r\n",
        "import matplotlib.pyplot as plt\r\n",
        "plt.plot(history.history['accuracy'])\r\n",
        "plt.plot(history.history['val_accuracy'])\r\n",
        "plt.legend(['accuracy','validation accuracy'])"
      ],
      "execution_count": 46,
      "outputs": [
        {
          "output_type": "execute_result",
          "data": {
            "text/plain": [
              "<matplotlib.legend.Legend at 0x7f29781d1f28>"
            ]
          },
          "metadata": {
            "tags": []
          },
          "execution_count": 46
        },
        {
          "output_type": "display_data",
          "data": {
            "image/png": "[encoded data removed]",
            "text/plain": [
              "<Figure size 432x288 with 1 Axes>"
            ]
          },
          "metadata": {
            "tags": [],
            "needs_background": "light"
          }
        }
      ]
    },
    {
      "cell_type": "markdown",
      "metadata": {
        "id": "rLVu3W4Aa-f4"
      },
      "source": [
        "This is actually not a good model - due to lack of data.\r\n",
        "（But we still go with it here to demo the idea.)"
      ]
    },
    {
      "cell_type": "markdown",
      "metadata": {
        "id": "nsufo1VabTOP"
      },
      "source": [
        "# Generate new Sonnet with given start line"
      ]
    },
    {
      "cell_type": "code",
      "metadata": {
        "id": "SU_RgBF7baU0"
      },
      "source": [
        "seed_text = \"Help me Obi Wan Kenobi, you're my only hope \\n\""
      ],
      "execution_count": 83,
      "outputs": []
    },
    {
      "cell_type": "markdown",
      "metadata": {
        "id": "aGSDSBXWbf1G"
      },
      "source": [
        "Pre-processing"
      ]
    },
    {
      "cell_type": "code",
      "metadata": {
        "colab": {
          "base_uri": "https://localhost:8080/"
        },
        "id": "d11b2C17bcOf",
        "outputId": "582fa108-69fb-42af-dd5d-764c16bf0815"
      },
      "source": [
        "seed = re.split(r\"([\\n,!?;.\\s+])\", seed_text.lower())\r\n",
        "while ' ' in seed:\r\n",
        "  seed.remove(' ')\r\n",
        "while '' in seed:\r\n",
        "  seed.remove('')\r\n",
        "seed"
      ],
      "execution_count": 84,
      "outputs": [
        {
          "output_type": "execute_result",
          "data": {
            "text/plain": [
              "['help',\n",
              " 'me',\n",
              " 'obi',\n",
              " 'wan',\n",
              " 'kenobi',\n",
              " ',',\n",
              " \"you're\",\n",
              " 'my',\n",
              " 'only',\n",
              " 'hope',\n",
              " '\\n']"
            ]
          },
          "metadata": {
            "tags": []
          },
          "execution_count": 84
        }
      ]
    },
    {
      "cell_type": "markdown",
      "metadata": {
        "id": "90kjCQoGbnuL"
      },
      "source": [
        "Predict next word, rolling forward till reaching 14 rows"
      ]
    },
    {
      "cell_type": "code",
      "metadata": {
        "colab": {
          "base_uri": "https://localhost:8080/"
        },
        "id": "p4IZ4kWDbj_7",
        "outputId": "0877c92d-6254-4390-b978-0a44805984c7"
      },
      "source": [
        "count_row = 0\r\n",
        "while(count_row <= 13):\r\n",
        "  token_list = tokenizer.texts_to_sequences([seed])[0]\r\n",
        "  token_list = pad_sequences([token_list], maxlen=predict_n, padding='pre')\r\n",
        "  predicted = np.argmax(model.predict(token_list), axis=-1)\r\n",
        "  output_word = \"\"\r\n",
        "  for word, index in tokenizer.word_index.items():\r\n",
        "    if index == predicted:\r\n",
        "      output_word = word\r\n",
        "      seed.append(output_word)\r\n",
        "      seed_text += \" \" + output_word\r\n",
        "      if predicted == 1:\r\n",
        "        count_row += 1\r\n",
        "\r\n",
        "print(seed_text)     "
      ],
      "execution_count": 85,
      "outputs": [
        {
          "output_type": "stream",
          "text": [
            "Help me Obi Wan Kenobi, you're my only hope \n",
            " all hear , are they , are many , to those \n",
            " as nights they rich her ground ; \n",
            " thou gavest my youth and you with thee ? \n",
            " alas of this part , love in one \n",
            " are objects of this honey hours ; \n",
            " for purest and wrinkles out , \n",
            " although left thy charge age , \n",
            " which almost gaze fresh such that but see aside: \n",
            " since at the willing kindness mayst the prophetic away , \n",
            " for borrow'd others' at their bastard and after-loss: \n",
            " so makest love-kindling leaves ; \n",
            " but there are fell thing in base on thee , \n",
            " the beauty why lends which you weak with cross , \n",
            " thou art in this one world was goes eyes , \n",
            "\n"
          ],
          "name": "stdout"
        }
      ]
    },
    {
      "cell_type": "code",
      "metadata": {
        "id": "sKG5hyfncMeq"
      },
      "source": [],
      "execution_count": 85,
      "outputs": []
    }
  ]
}